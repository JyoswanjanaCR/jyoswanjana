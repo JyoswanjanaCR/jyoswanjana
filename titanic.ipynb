import pandas as pd
import numpy as np
from scipy import stats
import matplotlib.pyplot as plt
import seaborn as sns

import plotly.express as px
from plotly.offline import iplot
from plotly.subplots import make_subplots

import warnings
warnings.simplefilter(action="ignore")
sns.set_theme(palette=sns.color_palette("muted"),style="darkgrid")
data = pd.read_csv("/content/IMDb Movies India.csv",encoding='latin-1')
data.sample(10)
